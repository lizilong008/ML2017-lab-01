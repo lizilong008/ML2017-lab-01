{
 "cells": [
  {
   "cell_type": "code",
   "execution_count": 2,
   "metadata": {},
   "outputs": [
    {
     "data": {
      "image/png": "[encoded data removed]",
      "text/plain": [
       "<matplotlib.figure.Figure at 0x18a82706668>"
      ]
     },
     "metadata": {},
     "output_type": "display_data"
    }
   ],
   "source": [
    "from sklearn import datasets as ds,model_selection as ms\n",
    "import matplotlib.pyplot as plt\n",
    "\n",
    "class Lmodel:\n",
    "    def h_x(x_data,params):\n",
    "        '''\n",
    "        f(x)=wx+b\n",
    "        '''\n",
    "        total=0.0\n",
    "        for i in range(len(x_data)):\n",
    "            total +=x_data[i]*params[i]\n",
    "        total +=params[len(params)-1]\n",
    "        return total\n",
    "\n",
    "    def get_loss(x_data,y_data):\n",
    "        '''\n",
    "        calculate loss func \n",
    "        '''\n",
    "        total_loss=0.0\n",
    "        for i in range(len(y_data)):\n",
    "            predict_y=Lmodel.h_x(x_data[i].data,model_params)\n",
    "            temp_loss=((y_data[i]-predict_y)**2)/2\n",
    "            total_loss+=temp_loss\n",
    "        return total_loss\n",
    "    def get_grads(x_data,y_data):\n",
    "        '''\n",
    "        calculate gradient func \n",
    "        '''\n",
    "        x_grads=[0.0]*len(x_data[0].data)\n",
    "        b_grad=0.0\n",
    "        \n",
    "        for i in range(len(y_data)):\n",
    "            for j in range(len(x_grads)):\n",
    "                x_grads[j]+=(Lmodel.h_x(x_data[i].data,model_params)-y_data[i])*x_data[i].data[j]\n",
    "            b_grad+=(Lmodel.h_x(x_data[i].data,model_params)-y_data[i])\n",
    "        \n",
    "        for i in range(len(x_grads)):\n",
    "            x_grads[i]/=x_data.shape[0]\n",
    "        b_grad/=x_data.shape[0]\n",
    "        return (x_grads,b_grad)\n",
    "    def update_params(x_grads,b_grad,learning_rate):\n",
    "        '''\n",
    "        update params func \n",
    "        '''\n",
    "        for i in range(len(x_grads)):\n",
    "            model_params[i]+=learning_rate*(-1)*x_grads[i]\n",
    "        model_params[len(model_params)-1]+=learning_rate*(-1)*b_grad\n",
    "        #print (model_params)\n",
    "    def train(iter_num,x_data,y_data,x_data_val,y_data_val,learning_rate):\n",
    "        '''\n",
    "        the whole train process\n",
    "        '''\n",
    "        train_loss_arr=[]\n",
    "        val_loss_arr=[]\n",
    "        for i in range(iter_num):\n",
    "            train_loss=Lmodel.get_loss(x_data,y_data)\n",
    "            val_loss=Lmodel.get_loss(x_data_val,y_data_val)\n",
    "            temp_x_grads,temp_b_grad=Lmodel.get_grads(x_data_val,y_data_val)\n",
    "            Lmodel.update_params(temp_x_grads,temp_b_grad,learning_rate)\n",
    "\n",
    "            train_loss_arr.append(train_loss)\n",
    "            val_loss_arr.append(val_loss)\n",
    "        Lmodel.draw_pic(train_loss_arr,val_loss_arr,iter_num)\n",
    "    def draw_pic(train_loss,val_loss,iter_num):\n",
    "        '''\n",
    "        draw pic \n",
    "        '''\n",
    "        plt.title('train_loss vs val_loss')  \n",
    "        plt.xlabel('iteration')  \n",
    "        plt.ylabel('total loss')  \n",
    "  \n",
    "        plt.plot(range(iter_num), train_loss,'r', label='train')  \n",
    "        plt.plot(range(iter_num), val_loss,'b',label='val')  \n",
    "        plt.xticks(range(iter_num), rotation=0)  \n",
    "  \n",
    "        plt.legend(bbox_to_anchor=[0.3, 1])  \n",
    "        plt.grid()  \n",
    "        plt.show()  \n",
    "    pass\n",
    "#load data\n",
    "x,y=ds.load_svmlight_file(\"./housing_scale.txt\")\n",
    "#seprate data\n",
    "x_train,x_test,y_train,y_test=ms.train_test_split(x,y,test_size=0.33)\n",
    "model_params=[0.0]*14\n",
    "#train\n",
    "Lmodel.train(8,x_train,y_train,x_test,y_test,0.005)\n",
    "    \n",
    "\n",
    "\n"
   ]
  },
  {
   "cell_type": "code",
   "execution_count": null,
   "metadata": {
    "collapsed": true
   },
   "outputs": [],
   "source": []
  }
 ],
 "metadata": {
  "kernelspec": {
   "display_name": "Python 3",
   "language": "python",
   "name": "python3"
  },
  "language_info": {
   "codemirror_mode": {
    "name": "ipython",
    "version": 3
   },
   "file_extension": ".py",
   "mimetype": "text/x-python",
   "name": "python",
   "nbconvert_exporter": "python",
   "pygments_lexer": "ipython3",
   "version": "3.6.3"
  }
 },
 "nbformat": 4,
 "nbformat_minor": 2
}
